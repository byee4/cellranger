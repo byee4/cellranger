{
 "cells": [
  {
   "cell_type": "markdown",
   "metadata": {},
   "source": [
    "# Install singularity - MAC "
   ]
  },
  {
   "cell_type": "markdown",
   "metadata": {},
   "source": [
    "First we need to get singularity installed on your mac. If you have singularity available to you on your cluster, great! skip this step. If you need help getting it setup on your cluster, talk to your staff. Here are the series of commands to get it installed on your mac. You can find more details [here](http://singularity.lbl.gov/install-mac)"
   ]
  },
  {
   "cell_type": "markdown",
   "metadata": {},
   "source": [
    "Open up your terminal window.\n",
    "\n",
    "First install brew:\n",
    "    \n",
    "    /usr/bin/ruby -e \"$(curl -fsSL https://raw.githubusercontent.com/Homebrew/install/master/install)\"\n",
    "\n",
    "Next, use brew to install the virtual machine:\n",
    "\n",
    "    brew cask install virtualbox\n",
    "    brew cask install vagrant\n",
    "    brew cask install vagrant-manager\n",
    "    \n",
    "Now let's get singularity setup:\n",
    "\n",
    "    mkdir singularity\n",
    "    cd singularity\n",
    "    \n",
    "This sets up the singularity virtual machine:\n",
    "    \n",
    "    vagrant init singularityware/singularity-2.3.1\n",
    "    \n",
    "This starts the virtual machine and connects to it. If you restart your computer, you will have to run the following 2 commands again in order to use singularity. Everything above here you will only need to run once. \n",
    "    \n",
    "    vagrant up\n",
    "    vagrant ssh\n",
    "    \n",
    "Notice the previous two commands have changed your username to vagrat@vagrant. Now you are operating inside your virtual machine!\n",
    "    \n",
    "All done! check that it is working with the command:\n",
    "\n",
    "    which singularity\n",
    "    \n",
    "The output will look like:\n",
    "\n",
    "    /usr/local/bin/singularity\n",
    "    \n",
    "Which version of singularity are you running?\n",
    "\n",
    "    singularity --version\n",
    "    \n",
    "The output should look like:\n",
    "\n",
    "    2.3.1-dist\n",
    "    \n",
    "Now you are all set to download any singularity image to your mac and you can use them for whatever pipeline is available to you on singularity. Next step, let's grab and download the cellranger image.\n"
   ]
  },
  {
   "cell_type": "markdown",
   "metadata": {},
   "source": [
    "# Install singularity - Windows "
   ]
  },
  {
   "cell_type": "markdown",
   "metadata": {},
   "source": [
    "Install instructions for windows are described in detail [here](http://singularity.lbl.gov/install-windows)\n",
    "\n",
    "Step 1: Under the Setup instructions on that website, you will see 4 pieces of software you need to install. Follow the links on the website to install each of these: Git, VirtualBox, Vagrant, and Vagrant Manager.\n",
    "\n",
    "These installs have put a new program on your computer called GitBash. Search for it in the start menu and run it by clicking on it. This will bring up a terminal window. The command line prompt will have your current location. It will look something like:\n",
    "\n",
    "    C:\\Users\\your_username\\\n",
    "\n",
    "Now let's get singularity setup:\n",
    "\n",
    "    mkdir singularity\n",
    "    cd singularity\n",
    "    \n",
    "This sets up the singularity virtual machine:\n",
    "    \n",
    "    vagrant init singularityware/singularity­2.3.1\n",
    "    \n",
    "This starts the virtual machine and connects to it. If you restart your computer, you will have to run the following 2 commands again in order to use singularity. Everything above here you will only need to run once. \n",
    "    \n",
    "    vagrant up\n",
    "    vagrant ssh\n",
    "    \n",
    "Notice the previous two commands have changed your username to vagrat@vagrant. Now you are operating inside your virtual machine!\n",
    "    \n",
    "All done! check that it is working with the command:\n",
    "\n",
    "    which singularity\n",
    "    \n",
    "The output will look like:\n",
    "\n",
    "    /usr/local/bin/singularity\n",
    "    \n",
    "Which version of singularity are you running?\n",
    "\n",
    "    singularity --version\n",
    "    \n",
    "The output should look like:\n",
    "\n",
    "    2.3.1-dist\n",
    "    \n",
    "Now you are all set to download any singularity image to your mac and you can use them for whatever pipeline is available to you on singularity. Next step, let's grab and download the cellranger image."
   ]
  },
  {
   "cell_type": "markdown",
   "metadata": {},
   "source": [
    "# Install the CellRanger Image using singularity"
   ]
  },
  {
   "cell_type": "markdown",
   "metadata": {},
   "source": [
    "If you already have singularity installed on your cluster, you can start here. \n",
    "\n",
    "Go to the singularityHub [website](https://singularity-hub.org/). Click on the tab Containers. In the searchbar that says \"enterkeywordshere\" type in cellranger to search for the container. \n",
    "This will bring up the names of all containers containing the keyword. You will see the options are:\n",
    "\n",
    "    YeoLab/cellranger-dev\n",
    "    YeoLab/singcellranger\n",
    "    \n",
    "To get that image on your machine, use the singularity pull command followed by the container name. \n",
    "\n",
    "    singularity pull shub://containername\n",
    "    \n",
    "So in our case, it would be:\n",
    "\n",
    "    singularity pull shub://YeoLab/singcellranger\n",
    "    \n",
    "Once the pull is finished, you will have a singularity image in your folder called:\n",
    "\n",
    "    YeoLab-singcellranger-master.img\n",
    "    \n",
    "Let's rename it to something that is easy to remember.\n",
    "\n",
    "    mv YeoLab-singcellranger-master.img singlecellranger\n",
    "    \n",
    "Now the new filename you have created is your command. "
   ]
  },
  {
   "cell_type": "markdown",
   "metadata": {},
   "source": [
    "# Download the appropriate reference genome"
   ]
  },
  {
   "cell_type": "markdown",
   "metadata": {},
   "source": [
    "In order for cellranger to perform the alignment, it needs to know what reference genome it should use. CellRanger has some pre-built (combining sequence and annotation) annotations available for you to download directly from their [website](https://support.10xgenomics.com/single-cell-gene-expression/software/downloads/latest). Scroll down to the references section and select the one that best fits your experiment. For demo purposes, we will grab the most recent human genome. Click on the wget tab for the human reference (or use curl if that is your setup). \n",
    "\n",
    "    wget http://cf.10xgenomics.com/supp/cell-exp/refdata-cellranger-GRCh38-1.2.0.tar.gz\n",
    "    \n",
    "After the download is complete, unzip the file with:\n",
    "\n",
    "    tar -xzvf refdata-cellranger-GRCh38-1.2.0.tar.gz\n",
    "    "
   ]
  },
  {
   "cell_type": "markdown",
   "metadata": {},
   "source": [
    "# Where are your fastqs? "
   ]
  },
  {
   "cell_type": "markdown",
   "metadata": {},
   "source": [
    "If you have your own data, this will be stored where ever you put it! If you need a few cells to try this one, "
   ]
  },
  {
   "cell_type": "markdown",
   "metadata": {},
   "source": [
    "# Now lets build your cellranger command"
   ]
  },
  {
   "cell_type": "markdown",
   "metadata": {},
   "source": [
    "The new name that you have given your image is now the command that you will use to call INSTEAD of cellranger. This command contains the cellranger program but also has everything else (non-cellranger programs) that you need in order for it to work. Check out the documentation on the [website](\n",
    "\n",
    "    singlecellranger count --input"
   ]
  },
  {
   "cell_type": "code",
   "execution_count": null,
   "metadata": {
    "collapsed": true
   },
   "outputs": [],
   "source": []
  }
 ],
 "metadata": {
  "kernelspec": {
   "display_name": "Python 3 (cshl-sca-2017)",
   "language": "python",
   "name": "python3"
  },
  "language_info": {
   "codemirror_mode": {
    "name": "ipython",
    "version": 3
   },
   "file_extension": ".py",
   "mimetype": "text/x-python",
   "name": "python",
   "nbconvert_exporter": "python",
   "pygments_lexer": "ipython3",
   "version": "3.6.1"
  }
 },
 "nbformat": 4,
 "nbformat_minor": 2
}
